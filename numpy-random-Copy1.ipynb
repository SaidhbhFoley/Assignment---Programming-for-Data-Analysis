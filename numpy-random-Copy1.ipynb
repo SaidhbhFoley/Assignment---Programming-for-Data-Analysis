{
 "cells": [
  {
   "cell_type": "markdown",
   "metadata": {},
   "source": [
    "# <span style='color:teal '> Assignment Programming for Data Analysis</span>\n",
    "*****\n",
    "\n",
    "The following assignment concerns the numpy.random package in Python. You are required to create a jupyter notebook explaining the use of the package, including detailed explanations of at least five distributions provided for in the package. There are four distinct tasks to be carried out in your Jupyter notebook:\n",
    "1. Explain the overall purpose of the package\n",
    "2. Explain the use of the \"Simple random data\" and \"Permutations\" functions\n",
    "3. Explain the use and purpose of at lease five \"Distributions\" functions\n",
    "4. Explain the use of seeds in generation pseudorandom numbers"
   ]
  },
  {
   "cell_type": "markdown",
   "metadata": {},
   "source": [
    "## <span style='color:teal '> 1. The Overall Purpose of the Package</span>\n",
    "***\n",
    "\n",
    "![NumPy](data:image/png;base64,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\n",
    ")\n",
    "\n"
   ]
  },
  {
   "cell_type": "markdown",
   "metadata": {},
   "source": [
    "### <span style='color:teal '> 1.1 ***What is NumPy?*** <span>\n",
    "\n",
    "<br>\n",
    "\n",
    "NumPy (Numerical Python) is an open source Python library. NumPy is used across the majority of science and engineering fields. It has become the universal standard when it comes to working with numerical data<sup>1</sup>. NumPy performs the following operations<sup>2</sup>:\n",
    "\n",
    "1. Mathematical and logical\n",
    "2. Shape manipulation and Fourier transforms\n",
    "3. Basic linear algebra\n",
    "\n",
    "To use NumPy in Python you must use the command:\n",
    ">import numpy as np\n",
    "\n",
    "NumPy is a great alternative to Python lists. NumPy is up to fifty times faster than Python lists<sup>3</sup> and has the ability to work with large datasets more efficiently than Python lists. NumPy is often used in conjunction with other libraries such as Pandas, Matplotlib, and Scikit-learn<sup>4</sup>.\n",
    "\n",
    "NumPy works with large and often times multidimensional arrays (collections of values that can have one or more dimensions). ndarray (N-dimensional array) stores items that are of the same size and type. The items stored in a ndarray can be modified by indexing or slicing<sup>5</sup>.\n",
    "\n",
    "The most important differences between NumPy arrays and Python lists are:\n",
    "- NumPy arrays have a fixed size when created. If the size is changed it results in the creation of a new array causing the original array to be deleted. \n",
    "- The items in a NumPy array must be the same data type, with the exception of object arrays which allows for different sized items.\n",
    "- NumPy arrays allow for advanced mathematical operations on large datasets which are executed in a more efficient manor than Python lists. \n",
    "- NumPy arrays are becoming more and more popular.\n",
    "\n",
    "\n",
    "#### <span style='color:teal '> 1.2  ***Benefits of NumPy*** <span>\n",
    "\n",
    "NumPy is not only more efficient in storing data it also makes it extremely easy to perform mathematical operations on it. \n",
    "NumPy data structures perform better in:\n",
    "- Size: NumPy data structures take up less space\n",
    "- Performance: NumPy is faster than lists\n",
    "- Functionality: NumPy requires less code as operations built in\n",
    "The main benefits of using NumPy arrays are it uses less memory and has a better runtime<sup>6</sup>.\n",
    "NumPy can be used in conjunction with Matplotlib or Seaborn to produce appealing visualisations of the data for example heatmaps and multiple scatterpots\n",
    "\n",
    "#### <span style='color:teal '> 1.3  ***Why Use NumPy*** <span>\n",
    "\n",
    "NumPy can perform complex mathematical operations that the programmer does not necessarily need to understand from a mathematical point of view. The programmer merely needs to understand the syntanx and what variables are required for the execution of the command.\n",
    "\n",
    "An example was given to us at the start of this course to help us to wrap our heads around the NumPy library. This was that we were to think of it as learning to drive a car. We may not understand the mechanics under the hood but due to the technology we don't need to in order to drive. It is beneficial to understand the mechanics but not strictly necessary.\n",
    "\n",
    "An example of a complex operation that NumPy can calculate in the coin flip. NumPy can calculate the probability of flipping a coin 6 times and getting heads in 20,000 trials<sup>7</sup>. In the example below (*Flipping a Coin Example*) a coin toss is simulated using the np.random() function, which draws a number between 0 and 1 such that all numbers in this interval are equally likely to occur.\n",
    "\n",
    "<hr>"
   ]
  },
  {
   "cell_type": "code",
   "execution_count": 64,
   "metadata": {},
   "outputs": [
    {
     "name": "stdout",
     "output_type": "stream",
     "text": [
      "0.20125\n"
     ]
    }
   ],
   "source": [
    "import numpy as np\n",
    "\n",
    "#Flipping a Coin\n",
    "estimate = sum(np.random.binomial(10, 0.5,20000)==6)/20000\n",
    "print(estimate)"
   ]
  },
  {
   "cell_type": "markdown",
   "metadata": {},
   "source": [
    "#### <span style='color:teal '>  ***1.4 Random sampling (numpy.random) Package*** <span>\n",
    "<br>\n",
    "NumPy’s random packages allows for the creation of pseudo random numbers, using BitGenerators and Generators<sup>8</sup>. A random means that there would be no way to predict logically what number will be generated<sup>7</sup>, it does not mean a new number every time<sup>9</sup>. As programmes are used to generate random numbers this means the number can be predicted so it is instead a pseudo random number.\n",
    "\n",
    "The numpy.random package offers several different functions for creating random numbered arrays<sup>8</sup>.\n",
    "\n",
    "**Simple random data**\n",
    "\n",
    "1. rand\n",
    "2. randn\n",
    "3. randint\n",
    "4. random_integers\n",
    "5. random_sample\n",
    "6. random\n",
    "7. ranf\n",
    "8. sample\n",
    "9. choice\n",
    "10. bytes\n",
    "\n",
    "**Permutations**\n",
    "\n",
    "1. shuffle\n",
    "2. permutation\n",
    "3. permuted\n",
    "\n",
    "**Distributions**\n",
    "\n",
    "1. binomial\n",
    "2. uniform\n",
    "3. normal\n",
    "\n",
    "<hr>"
   ]
  },
  {
   "cell_type": "markdown",
   "metadata": {},
   "source": [
    "## <span style='color:teal '> 2. \"Simple Random Data\" and \"Permutations\" Functions <span>\n",
    "***\n",
    "    \n",
    "### <span style='color:teal '> 2.1 ***Simple Random Data*** <span>\n",
    "<br>\n",
    "There are two basic NumPy Simple Random Data Functions that are the most commonly used:\n",
    "\n",
    "- randint()\n",
    "- rand()\n",
    "\n",
    "These are used to:\n",
    "\n",
    "- Generate single random numbers\n",
    "- Generate arrays of random numbers\n",
    "- Generate multidimensional arrays of random numbers\n",
    "\n",
    "As these are the most commonly used functions from the Simple Random Data Functions I will give an overview of these functions.\n",
    "\n",
    "***randint() or rand()***\n",
    "\n",
    "Whether you use randint() or rand() depends on if you are working with integers or floats (decimal places). An integer (int) is a number without a decimal point. A float is a floating point number, which means it is a number that has a decimal place. Floats are used when more precision is required<sup>10</sup>.\n",
    "As integers and floats are different data types there are different functions for working with integers and floats.\n",
    "\n",
    "#### <span style='color:teal '> 2.1.1 Integers randint <span>\n",
    "\n",
    "If you are working with integers the randint() function is used. This function can be used to generate random numbers, for example if you wanted a random number between 0 and 250 you would the randint function, as seen below. Examples are taken from w3schools tutorial on NumPy Random, Random Intro<sup>9</sup>.\n"
   ]
  },
  {
   "cell_type": "code",
   "execution_count": 2,
   "metadata": {},
   "outputs": [
    {
     "name": "stdout",
     "output_type": "stream",
     "text": [
      "147\n"
     ]
    }
   ],
   "source": [
    "from numpy import random\n",
    "\n",
    "# Random number between 0 and 250\n",
    "x = random.randint(250)\n",
    "\n",
    "print(x)"
   ]
  },
  {
   "cell_type": "markdown",
   "metadata": {},
   "source": [
    "It is possible to create random arrays using code similar to that above. The size parameter allows you to specify the shape of the array."
   ]
  },
  {
   "cell_type": "code",
   "execution_count": 3,
   "metadata": {
    "scrolled": true
   },
   "outputs": [
    {
     "name": "stdout",
     "output_type": "stream",
     "text": [
      "[ 24  69  62 163 129]\n"
     ]
    }
   ],
   "source": [
    "from numpy import random\n",
    "\n",
    "# Generate a 1-D array containing 5 random integers from 0 to 250\n",
    "x = random.randint(250, size=(5))\n",
    "\n",
    "print(x)"
   ]
  },
  {
   "cell_type": "code",
   "execution_count": 4,
   "metadata": {},
   "outputs": [
    {
     "name": "stdout",
     "output_type": "stream",
     "text": [
      "[[149 223  15 145 196]\n",
      " [181  99  29  44  18]\n",
      " [214  33 140 170  61]]\n"
     ]
    }
   ],
   "source": [
    "from numpy import random\n",
    "\n",
    "# Generate a 2-D array with 3 rows, containing 5 random integers from 0 to 250\n",
    "x = random.randint(250, size=(3,5))\n",
    "\n",
    "print(x)"
   ]
  },
  {
   "cell_type": "markdown",
   "metadata": {},
   "source": [
    "Below is an example of using randint to play the lotto."
   ]
  },
  {
   "cell_type": "code",
   "execution_count": 58,
   "metadata": {},
   "outputs": [
    {
     "name": "stdout",
     "output_type": "stream",
     "text": [
      "Please enter a number between 1 and 47:19\n",
      "Please enter a number between 1 and 47:17\n",
      "Please enter a number between 1 and 47:27\n",
      "Please enter a number between 1 and 47:43\n",
      "Please enter a number between 1 and 47:39\n",
      "Please enter a number between 1 and 47:25\n",
      "Today's lotto numbers are: [14, 29, 31, 34, 36, 41]\n",
      "Your numbers: [19, 17, 27, 43, 39, 25]\n",
      "You guessed0numbers correct\n"
     ]
    }
   ],
   "source": [
    "import random\n",
    "\n",
    "# Create an empty list to store the lotto numbers\n",
    "lotto_numbers = []\n",
    "\n",
    "# Create a for loop for lotto numbers there are 6 numbers drawn so the range is (0,6)\n",
    "for i in range (0,6):\n",
    "    # In the Euromillions the numbers are 1 - 47\n",
    "    number = random.randint(1,47)\n",
    "    # Check if the number has been picked\n",
    "    while number in lotto_numbers:\n",
    "    # If it has been picked pick a different number\n",
    "        number = random.randint\n",
    "    # Add the number to the list of lotto numbers\n",
    "    lotto_numbers.append(number)\n",
    "# Sort this list in ascending number\n",
    "lotto_numbers.sort()\n",
    "\n",
    "# Ask user to choose their lotto numbers\n",
    "user_numbers = []\n",
    "for i in range(0,6):\n",
    "    # Asks the user to choose a number between 1 and 47\n",
    "    number = int(input(\"Please enter a number between 1 and 47:\"))\n",
    "    # If the user chooses either the same number or a number outside of the specified range\n",
    "    # it will prompt the user to pick again\n",
    "    while (number in user_numbers or number<1 or number>47):\n",
    "        print(\"Invalid number please select a new number\")\n",
    "        number = int(input(\"Please enter a number between 1 and 47:\"))\n",
    "    # Add the users selection to usernumbers\n",
    "    user_numbers.append(number)\n",
    "\n",
    "print(\"Today's lotto numbers are:\", lotto_numbers)\n",
    "print(\"Your numbers:\", user_numbers)\n",
    "\n",
    "# using counter to see how many lotto numbers the user guessed correctly\n",
    "counter = 0\n",
    "for number in user_numbers:\n",
    "    if number in lotto_numbers:\n",
    "        counter +=1\n",
    "print(\"You guessed\" + str(counter) + \"numbers correct\")"
   ]
  },
  {
   "cell_type": "markdown",
   "metadata": {},
   "source": [
    "#### <span style='color:teal '> 2.1.2 Floats rand <span>\n",
    "If you are working with floats the rand() function is used. This function can be used to generate a random decimal place value, for example if you wanted a random decimal place number between 0 and 1 you would the rand() function, as seen below. Examples are taken from w3schools tutorial on NumPy Random, Random Intro<sup>9<sup>."
   ]
  },
  {
   "cell_type": "code",
   "execution_count": 5,
   "metadata": {},
   "outputs": [
    {
     "name": "stdout",
     "output_type": "stream",
     "text": [
      "0.9760326986002038\n"
     ]
    }
   ],
   "source": [
    "from numpy import random\n",
    "\n",
    "# Random decimal between 0 and 1\n",
    "x = random.rand()\n",
    "\n",
    "print(x)"
   ]
  },
  {
   "cell_type": "code",
   "execution_count": 6,
   "metadata": {},
   "outputs": [
    {
     "name": "stdout",
     "output_type": "stream",
     "text": [
      "[0.34481761 0.33731095 0.31191191 0.12211152 0.11113715]\n"
     ]
    }
   ],
   "source": [
    "from numpy import random\n",
    "\n",
    "# Generate a 1-D array containing 5 random floats\n",
    "x = random.rand(5)\n",
    "\n",
    "print(x)"
   ]
  },
  {
   "cell_type": "code",
   "execution_count": 7,
   "metadata": {},
   "outputs": [
    {
     "name": "stdout",
     "output_type": "stream",
     "text": [
      "[[0.64810503 0.87511804 0.79052051 0.14110759 0.54558212]\n",
      " [0.10559155 0.04529464 0.65638586 0.53515233 0.08202369]\n",
      " [0.03493925 0.98975641 0.03002133 0.44452825 0.50461902]]\n"
     ]
    }
   ],
   "source": [
    "from numpy import random\n",
    "\n",
    "# Generate a 2-D array with 3 rows, containing 5 random floats\n",
    "x = random.rand(3,5)\n",
    "\n",
    "print(x)"
   ]
  },
  {
   "cell_type": "markdown",
   "metadata": {},
   "source": [
    "#### <span style='color:teal '> 2.1.3 Random choice <span>\n",
    "\n",
    "The choice() command returns a randomly selected element from the specified sequence. The sequence can be a string, a range, a list, a tuple or any kind of sequence. \n",
    "    \n",
    "In the roulette example below choices is illustrated."
   ]
  },
  {
   "cell_type": "code",
   "execution_count": 46,
   "metadata": {},
   "outputs": [
    {
     "name": "stdout",
     "output_type": "stream",
     "text": [
      "['Black', 'Black', 'Red', 'Red', 'Black', 'Red', 'Black', 'Red', 'Black', 'Black']\n"
     ]
    }
   ],
   "source": [
    "import random\n",
    "\n",
    "# Roulette Game\n",
    "# A roulette wheel has 3 colours: Red, Black and Green\n",
    "colors = [\"Red\", \"Black\", \"Green\"]\n",
    "# There are 38 segments, 18 red, 18 black and 2 green\n",
    "# weights gives the number of each colour and k gives the number of spins\n",
    "results = random.choices(colors, weights=[18,18,2], k=10)\n",
    "\n",
    "print(results)"
   ]
  },
  {
   "cell_type": "markdown",
   "metadata": {},
   "source": [
    "### <span style='color:teal '> 2.2 Permutations <span>\n",
    "<br>\n",
    "Permutation is the different order that items from a sequence can be arranged. In Python these items can be a string, or a list, or any other data type<sup>11</sup>. Python has three different permutation methods: shuffle, permutation and permuted.\n",
    "\n",
    "A good example of permutation is a Rubik’s cube. A Rubik’s cube has 6 faces with 9 cubes of repeating colour on each face (before it is shuffled). Therefore, it can be considered to be an organised list containing 54 elements.\n",
    "\n",
    "Another commonly used example to explain permutations is if you are given three balls, one blue, one yellow and one green. It is possible to make the following different arrangements:\n",
    "\n",
    "- GREEN BLUE YELLOW\n",
    "- GREEN YELLOW BLUE \n",
    "- YELLOW GREEN BLUE \n",
    "- YELLOW BLUE GREEN \n",
    "- BLUE GREEN YELLOW \n",
    "- BLUE YELLOW GREEN\n",
    "\n",
    "These are all the possible arrangements where the order is essential and there is no repetition, and this is known as permutation<sup>11</sup>.\n",
    "\n",
    "#### <span style='color:teal '> 2.2.1 shuffle() <span>\n",
    "\n",
    "The random.shuffle() function modifies a sequence in-place by shuffling its contents. This function modifies the sequence of the array but not the contents of the array<sup>12</sup>. Using numpy.reshape it is possible to change the shape of the array to make it more visualling appealing<sup>13</sup>.\n",
    "\n",
    "***Shuffling a Deck of Cards***\n",
    "\n",
    "Shuffling a deck of cards in an excellent visualisation tool for the function shuffle() in NumPy.\n"
   ]
  },
  {
   "cell_type": "code",
   "execution_count": 127,
   "metadata": {},
   "outputs": [
    {
     "name": "stdout",
     "output_type": "stream",
     "text": [
      "2 of Hearts\n",
      "3 of Hearts\n",
      "4 of Hearts\n",
      "5 of Hearts\n",
      "6 of Hearts\n",
      "7 of Hearts\n",
      "8 of Hearts\n",
      "9 of Hearts\n",
      "10 of Hearts\n",
      "J of Hearts\n",
      "Q of Hearts\n",
      "K of Hearts\n",
      "A of Hearts\n",
      "2 of Diamonds\n",
      "3 of Diamonds\n",
      "4 of Diamonds\n",
      "5 of Diamonds\n",
      "6 of Diamonds\n",
      "7 of Diamonds\n",
      "8 of Diamonds\n",
      "9 of Diamonds\n",
      "10 of Diamonds\n",
      "J of Diamonds\n",
      "Q of Diamonds\n",
      "K of Diamonds\n",
      "A of Diamonds\n",
      "2 of Clubs\n",
      "3 of Clubs\n",
      "4 of Clubs\n",
      "5 of Clubs\n",
      "6 of Clubs\n",
      "7 of Clubs\n",
      "8 of Clubs\n",
      "9 of Clubs\n",
      "10 of Clubs\n",
      "J of Clubs\n",
      "Q of Clubs\n",
      "K of Clubs\n",
      "A of Clubs\n",
      "2 of Spades\n",
      "3 of Spades\n",
      "4 of Spades\n",
      "5 of Spades\n",
      "6 of Spades\n",
      "7 of Spades\n",
      "8 of Spades\n",
      "9 of Spades\n",
      "10 of Spades\n",
      "J of Spades\n",
      "Q of Spades\n",
      "K of Spades\n",
      "A of Spades\n",
      "Suffled Deck: ['10 of Hearts', 'Q of Hearts', '9 of Hearts', '7 of Diamonds', 'K of Clubs', '8 of Diamonds', '3 of Clubs', '2 of Hearts', '4 of Diamonds', '7 of Spades', 'K of Hearts', '10 of Diamonds', '8 of Hearts', 'J of Clubs', '8 of Clubs', 'A of Clubs', '6 of Diamonds', '6 of Spades', '4 of Spades', '5 of Hearts', 'J of Hearts', '8 of Spades', '10 of Clubs', '10 of Spades', '5 of Spades', 'Q of Clubs', '6 of Clubs', '9 of Diamonds', '9 of Spades', '2 of Clubs', 'K of Diamonds', '7 of Hearts', '3 of Diamonds', '2 of Diamonds', 'A of Spades', '3 of Hearts', '5 of Diamonds', '7 of Clubs', '2 of Spades', 'J of Spades', '6 of Hearts', '3 of Spades', 'J of Diamonds', '5 of Clubs', 'Q of Spades', 'Q of Diamonds', '4 of Clubs', 'A of Diamonds', '4 of Hearts', 'A of Hearts', 'K of Spades', '9 of Clubs']\n"
     ]
    }
   ],
   "source": [
    "import random\n",
    "\n",
    "cardfaces=[]\n",
    "suits=[\"Hearts\",\"Diamonds\", \"Clubs\", \"Spades\"]\n",
    "royals=[\"J\", \"Q\", \"K\", \"A\"]\n",
    "deck=[]\n",
    "\n",
    "# First add numbers 2-10 and convert to string\n",
    "for i in range(2,11):\n",
    "    cardfaces.append(str(i))\n",
    "# Add royals to cardfaces\n",
    "for j in range(4):\n",
    "    cardfaces.append(royals[j])\n",
    "\n",
    "#print(cardfaces) - checking if it works\n",
    "\n",
    "#Now assign cards with their suits\n",
    "for k in range(4):\n",
    "    for l in range(13):\n",
    "        card = (cardfaces[l] + \" of \" + suits[k])\n",
    "        # Adding this info to make a full deck\n",
    "        deck.append(card)\n",
    "\n",
    "for m in range(52):\n",
    "    print(deck[m])\n",
    "\n",
    "random.shuffle(deck)\n",
    "print(\"Suffled Deck:\",deck)"
   ]
  },
  {
   "cell_type": "markdown",
   "metadata": {},
   "source": [
    "#### <span style='color:teal '> 2.2.2 permutation() <span>\n",
    "\n",
    "Randomly permute a sequence, or return a permuted range. If x is a multi-dimensional array, it is only shuffled along its first index<sup>14, 15</sup>. "
   ]
  },
  {
   "cell_type": "code",
   "execution_count": 10,
   "metadata": {},
   "outputs": [
    {
     "data": {
      "text/plain": [
       "array([9, 0, 7, 2, 3, 4, 5, 8, 1, 6])"
      ]
     },
     "execution_count": 10,
     "metadata": {},
     "output_type": "execute_result"
    }
   ],
   "source": [
    "import numpy as np\n",
    "rng = np.random.default_rng()\n",
    "rng.permutation(10)"
   ]
  },
  {
   "cell_type": "markdown",
   "metadata": {},
   "source": [
    "The above example creates an array from 0 - 9, with the numbers arranged randomly within the array. It is also possible to input an array that is then randomly shuffled using permutation as seen below."
   ]
  },
  {
   "cell_type": "code",
   "execution_count": 11,
   "metadata": {},
   "outputs": [
    {
     "data": {
      "text/plain": [
       "array([ 4,  9, 15, 12,  1])"
      ]
     },
     "execution_count": 11,
     "metadata": {},
     "output_type": "execute_result"
    }
   ],
   "source": [
    "import numpy as np\n",
    "rng.permutation([1,4,9,12,15])"
   ]
  },
  {
   "cell_type": "markdown",
   "metadata": {},
   "source": [
    "As with shuffle it is possible to reshape the array into a specified number of rows and columns using .reshape. An exmaple of this is provided below"
   ]
  },
  {
   "cell_type": "code",
   "execution_count": 12,
   "metadata": {},
   "outputs": [
    {
     "data": {
      "text/plain": [
       "array([[2, 0, 1],\n",
       "       [5, 3, 4],\n",
       "       [8, 6, 7]])"
      ]
     },
     "execution_count": 12,
     "metadata": {},
     "output_type": "execute_result"
    }
   ],
   "source": [
    "import numpy as np\n",
    "arr = np.arange(9).reshape((3,3))\n",
    "rng.permutation(arr, axis=1)"
   ]
  },
  {
   "cell_type": "markdown",
   "metadata": {},
   "source": [
    "#### <span style='color:teal '> 2.2.3 permuted() <span>\n",
    "\n",
    "Randomly permute x along axis axis. Unlike shuffle each slice along the given axis is shuffled independently of the others<sup>16</sup>."
   ]
  },
  {
   "cell_type": "code",
   "execution_count": 13,
   "metadata": {},
   "outputs": [
    {
     "data": {
      "text/plain": [
       "array([[ 0,  1,  2,  3,  4,  5,  6,  7],\n",
       "       [ 8,  9, 10, 11, 12, 13, 14, 15],\n",
       "       [16, 17, 18, 19, 20, 21, 22, 23]])"
      ]
     },
     "execution_count": 13,
     "metadata": {},
     "output_type": "execute_result"
    }
   ],
   "source": [
    "import numpy as np\n",
    "\n",
    "# Create random generator\n",
    "rng = np.random.default_rng()\n",
    "\n",
    "# Create an array\n",
    "x = np.arange(24).reshape((3,8))\n",
    "x"
   ]
  },
  {
   "cell_type": "code",
   "execution_count": 14,
   "metadata": {},
   "outputs": [
    {
     "data": {
      "text/plain": [
       "array([[ 0,  7,  3,  2,  6,  1,  4,  5],\n",
       "       [ 8, 10, 14, 13,  9, 12, 11, 15],\n",
       "       [23, 19, 20, 22, 18, 17, 21, 16]])"
      ]
     },
     "execution_count": 14,
     "metadata": {},
     "output_type": "execute_result"
    }
   ],
   "source": [
    "import numpy as np\n",
    "\n",
    "# Shuffle rows of x\n",
    "y = rng.permuted(x, axis=1)\n",
    "y"
   ]
  },
  {
   "cell_type": "code",
   "execution_count": 15,
   "metadata": {},
   "outputs": [
    {
     "data": {
      "text/plain": [
       "array([[ 0,  1,  2,  3,  4,  5,  6,  7],\n",
       "       [ 8,  9, 10, 11, 12, 13, 14, 15],\n",
       "       [16, 17, 18, 19, 20, 21, 22, 23]])"
      ]
     },
     "execution_count": 15,
     "metadata": {},
     "output_type": "execute_result"
    }
   ],
   "source": [
    "import numpy as np\n",
    "\n",
    "# Reprint x to show it has not been modified\n",
    "x"
   ]
  },
  {
   "cell_type": "code",
   "execution_count": 16,
   "metadata": {},
   "outputs": [
    {
     "data": {
      "text/plain": [
       "array([[ 5,  0,  7,  3,  2,  1,  4,  6],\n",
       "       [11, 15,  8, 14, 10, 13,  9, 12],\n",
       "       [19, 16, 21, 17, 20, 22, 23, 18]])"
      ]
     },
     "execution_count": 16,
     "metadata": {},
     "output_type": "execute_result"
    }
   ],
   "source": [
    "import numpy as np\n",
    "\n",
    "# In order to shuffle the rows of x, pass x as the out parameter\n",
    "y = rng.permuted(x, axis=1, out=x)\n",
    "x"
   ]
  },
  {
   "cell_type": "code",
   "execution_count": 17,
   "metadata": {},
   "outputs": [
    {
     "data": {
      "text/plain": [
       "True"
      ]
     },
     "execution_count": 17,
     "metadata": {},
     "output_type": "execute_result"
    }
   ],
   "source": [
    "y is x"
   ]
  },
  {
   "cell_type": "markdown",
   "metadata": {},
   "source": [
    "## <span style='color:teal '> 3. Distribution Functions <span>\n",
    "***\n",
    "\n",
    "Data distributions enables us to have an idea about the distribution of the data. That is, it represents a list of all the possible values in the term of the data range and also represents the frequency of these data values in the distribution<sup>17</sup>. The NumPy package allows data to be randomly generated and analysed. \n",
    "\n",
    "In this assignment five distribution factors will be examined.\n",
    "\n",
    "1. random.binomial\n",
    "2. random.geometric\n",
    "3. random.normal\n",
    "4. random.poisson\n",
    "5. random.uniform\n",
    "\n",
    "### <span style='color:teal '> 3.1 ***Binomial Distribution*** <span>\n",
    "\n",
    "Binomial distribution is the success or failure of a trial/experiment that is repeated multiple times. Binomial distributions have a certain set of rules they must follow:\n",
    "1. The experiment is repeated a set number of times and this number is fixed.\n",
    "2. Each experiment has only two possible outcomes it can either be a success or a failure and these outcomes are the same for each experiment\n",
    "3. The trials/experiments are independent \n",
    "\n",
    "The binomial distribution is closely related to the Bernoulli distribution. Bernoulli distribution differs from binomial when it comes to repetition, Bernoulli distribution is not repeated, the results are taken after one trial/experiment.\n",
    "\n",
    "A good example of binomial distribution is rolling a dice<sup>20</sup>. You have a 1 in 6 probability of rolling any number. If the number required for success is set to 1 than a roll of anything else results in failure. Each roll is also independent of the last roll. \n",
    "\n",
    "Another example is a simple coin flip. What is the probability of flipping a coin and it landing on heads 10 times with 10000 trials? The probability of getting heads is one in two or 0.5.The chances of getting 12 heads in a row is the same as getting 12 tails in a row and each flip is independent of the last flip. This example is shown below."
   ]
  },
  {
   "cell_type": "code",
   "execution_count": 144,
   "metadata": {},
   "outputs": [
    {
     "data": {
      "text/plain": [
       "0.0012"
      ]
     },
     "execution_count": 144,
     "metadata": {},
     "output_type": "execute_result"
    }
   ],
   "source": [
    "import numpy as np\n",
    "import random\n",
    "import matplotlib.pyplot as plt\n",
    "\n",
    "sum(np.random.binomial(10, 0.5, size = 10000)==0)/10000\n"
   ]
  },
  {
   "cell_type": "code",
   "execution_count": 151,
   "metadata": {},
   "outputs": [
    {
     "data": {
      "image/png": "[encoded data removed]",
      "text/plain": [
       "<Figure size 432x288 with 1 Axes>"
      ]
     },
     "metadata": {},
     "output_type": "display_data"
    }
   ],
   "source": [
    "import numpy as np\n",
    "import random\n",
    "import matplotlib.pyplot as plt\n",
    "\n",
    "coin = stats.binom.rvs(size=10000, n=10, p=0.5)\n",
    "plt.title('Fair Coin Flip Distribution')\n",
    "plt.hist(coin)\n",
    "plt.show()"
   ]
  },
  {
   "cell_type": "markdown",
   "metadata": {},
   "source": [
    "### <span style='color:teal '> 3.2 ***Geometric Distribution*** <span>\n",
    "\n",
    "Geometric distribution is a discrete probability distribution. It is the probability of success after a set number of trials. Like in binomial distribution this too can only have success or failure as an outcome. It can be used to show the time taken for success. We can use our coin flip from above to show how many time we will need to flip the coin in order for it to be heads."
   ]
  },
  {
   "cell_type": "code",
   "execution_count": 153,
   "metadata": {},
   "outputs": [
    {
     "data": {
      "image/png": "[encoded data removed]",
      "text/plain": [
       "<Figure size 432x288 with 1 Axes>"
      ]
     },
     "metadata": {},
     "output_type": "display_data"
    }
   ],
   "source": [
    "import numpy as np\n",
    "import random\n",
    "import matplotlib.pyplot as plt\n",
    "\n",
    "heads = stats.geom.rvs(size=10000, p=0.5)\n",
    "plt.title('Time Taken to Flip Heads')\n",
    "plt.hist(heads)\n",
    "plt.show()"
   ]
  },
  {
   "cell_type": "markdown",
   "metadata": {},
   "source": [
    "Geometric distribution can also be used to identify the number of throws it takes to make th perfect shot. This example has been taken from Data Analytics<sup>21</sup>."
   ]
  },
  {
   "cell_type": "code",
   "execution_count": 155,
   "metadata": {},
   "outputs": [
    {
     "data": {
      "image/png": "[encoded data removed]",
      "text/plain": [
       "<Figure size 432x288 with 1 Axes>"
      ]
     },
     "metadata": {},
     "output_type": "display_data"
    }
   ],
   "source": [
    "import numpy as np\n",
    "from scipy.stats import geom\n",
    "import matplotlib.pyplot as plt\n",
    "\n",
    "# Probability of perfect first throw is 0.6\n",
    "p = 0.6\n",
    "\n",
    "# The number of throws to make is 10\n",
    "X = [1,2,3,4,5,6,7,8,9,10]\n",
    "\n",
    "#Calculate geometric probability distribution\n",
    "geom_pd = geom.pmf(X,p)\n",
    "geom_pd\n",
    "\n",
    "plt.hist(geom_pd)\n",
    "plt.show()"
   ]
  },
  {
   "cell_type": "markdown",
   "metadata": {},
   "source": [
    "### <span style='color:teal '> 3.3 ***Normal Distribution*** <span>\n",
    "\n",
    "Normal distribution is the default probability for many real-world examples. When you hear normal distribution the first thing you think of is usually a bell curve. This represents a symmetric distribution where most of the observations cluster around the central peak - mean of the distribution<sup>22</sup>. Normal distribution cannot be used to model skewed data.\n",
    "\n",
    "Below is an example using human IQ, with IQ the mean is typically 100 and standard deviation is 15. Example roughly taken from Matplotlib <sup>23</sup>.\n"
   ]
  },
  {
   "cell_type": "code",
   "execution_count": 174,
   "metadata": {},
   "outputs": [
    {
     "data": {
      "image/png": "[encoded data removed]",
      "text/plain": [
       "<Figure size 432x288 with 1 Axes>"
      ]
     },
     "metadata": {},
     "output_type": "display_data"
    }
   ],
   "source": [
    "import numpy as np\n",
    "import matplotlib.pyplot as plt\n",
    "from scipy.stats import norm\n",
    "import statistics\n",
    "\n",
    "plt.style.use('ggplot')\n",
    "\n",
    "# Create a normal distribution with mean as 100 and std as 15\n",
    "mu = 100\n",
    "sigma = 15\n",
    "\n",
    "# data is the normal distrubution of mu and sigma with 1000 values\n",
    "data = np.random.normal(mu,sigma,10000)\n",
    "\n",
    "plt.hist(data, bins=50, density=True, alpha=0.75)\n",
    "\n",
    "# Creating the normal distribution to overlay the histogram\n",
    "xmin, xmax = plt.xlim()\n",
    "x = np.linspace(xmin, xmax, 10000)\n",
    "p = norm.pdf(x, mu, sigma)\n",
    "plt.plot(x, p, linewidth=1)\n",
    "\n",
    "plt.title('Histogram of IQ')\n",
    "\n",
    "plt.grid(True)\n",
    "plt.show()"
   ]
  },
  {
   "cell_type": "markdown",
   "metadata": {},
   "source": [
    "### <span style='color:teal '> 3.4 ***Poisson Distribution*** <span>\n",
    "\n",
    "Poisson distribution is a probability distribution that is used to show how many times an event is likely to occur over a specified period<sup>24</sup>."
   ]
  },
  {
   "cell_type": "code",
   "execution_count": 48,
   "metadata": {},
   "outputs": [
    {
     "data": {
      "text/plain": [
       "array([1.35335283e-01, 2.70670566e-01, 2.70670566e-01, 1.80447044e-01,\n",
       "       9.02235222e-02, 3.60894089e-02, 1.20298030e-02, 3.43708656e-03,\n",
       "       8.59271640e-04, 1.90949253e-04])"
      ]
     },
     "execution_count": 48,
     "metadata": {},
     "output_type": "execute_result"
    }
   ],
   "source": [
    "import numpy as np\n",
    "import scipy.stats as stats\n",
    "\n",
    "rate = 2\n",
    "n = np.arange(0,10)\n",
    "y = stats.poisson.pmf(n,rate)\n",
    "y"
   ]
  },
  {
   "cell_type": "markdown",
   "metadata": {},
   "source": [
    "Below I have created an example of customers ordering a takeaway on a Friday from Deliveroo in Dublin 8. Using 6 months of data from Friday customer transactions. This is all entirely fictional and used as an example of how using poisson distribution it is possible to forecast future customer transactions on any Friday for the next 3 years, 2022 - 2025. First np.busday_count is used to get how many Fridays there were in the first 6 months of 2021 in order to create the data needed for this example."
   ]
  },
  {
   "cell_type": "code",
   "execution_count": 49,
   "metadata": {},
   "outputs": [
    {
     "data": {
      "text/plain": [
       "22"
      ]
     },
     "execution_count": 49,
     "metadata": {},
     "output_type": "execute_result"
    }
   ],
   "source": [
    "import numpy as np\n",
    "\n",
    "np.busday_count('2021-01','2021-06', weekmask='Fri')"
   ]
  },
  {
   "cell_type": "markdown",
   "metadata": {},
   "source": [
    "Next I use np.random.rand() to create a random array that will be used as customer numbers. As this is random it will change each time it is run so I have taken an array at random (511, 726, 518, 904, 804, 788, 520, 513, 955, 580, 814, 840, 774,944, 825, 647, 731, 741, 957, 908, 749, 534) is the array I have used in the code below [25]."
   ]
  },
  {
   "cell_type": "code",
   "execution_count": 50,
   "metadata": {},
   "outputs": [
    {
     "data": {
      "text/plain": [
       "array([528, 752, 502, 963, 948, 774, 609, 907, 504, 653, 687, 820, 529,\n",
       "       570, 506, 974, 547, 594, 873, 581, 577, 562])"
      ]
     },
     "execution_count": 50,
     "metadata": {},
     "output_type": "execute_result"
    }
   ],
   "source": [
    "import numpy as np\n",
    "from numpy import random\n",
    "\n",
    "rng = np.random.default_rng()\n",
    "rng.integers(600, size=22)\n",
    "rints = rng.integers(low = 500, high = 1000, size=22)\n",
    "rints"
   ]
  },
  {
   "cell_type": "code",
   "execution_count": 24,
   "metadata": {},
   "outputs": [
    {
     "name": "stdout",
     "output_type": "stream",
     "text": [
      "The number of Friday orders from Jan to Jun 2021 is: [511, 726, 518, 904, 804, 788, 520, 513, 955, 580, 814, 840, 774, 944, 825, 647, 731, 741, 957, 908, 749, 534]\n",
      "The average count of Friday orders is: 740\n",
      "The number of Fridays from 2022 until 2026 inclusive is: 208\n",
      "Using Poisson Distribution we are able to forecast the number of Friday orders [743 724 767 779 754 756 786 741 739 788 738 751 729 743 768 757 718 728\n",
      " 764 753 740 768 731 741 748 733 730 733 737 712 711 733 737 705 768 769\n",
      " 764 697 698 733 743 760 728 748 715 755 796 735 784 733 708 739 725 762\n",
      " 741 717 738 705 712 756 702 784 713 726 727 746 727 789 693 766 765 722\n",
      " 683 776 735 775 762 719 757 732 763 726 720 746 726 742 750 727 711 778\n",
      " 748 733 778 740 775 713 806 705 745 714 751 755 712 704 726 744 700 714\n",
      " 736 734 738 726 757 758 767 762 773 738 722 713 761 718 757 712 727 717\n",
      " 771 755 678 709 719 791 784 734 746 734 762 738 778 742 688 727 739 728\n",
      " 708 792 711 660 767 725 757 770 726 755 764 708 717 746 698 729 692 739\n",
      " 734 791 732 711 731 764 752 794 718 679 741 747 769 730 776 703 780 735\n",
      " 727 750 703 706 728 711 668 744 668 680 749 733 751 777 723 755 720 758\n",
      " 748 757 721 719 790 777 822 797 732 765]\n"
     ]
    },
    {
     "data": {
      "image/png": "[encoded data removed]",
      "text/plain": [
       "<Figure size 432x288 with 1 Axes>"
      ]
     },
     "metadata": {},
     "output_type": "display_data"
    }
   ],
   "source": [
    "import numpy as np\n",
    "import matplotlib.pyplot as plt\n",
    "from matplotlib.pyplot import subplots, show\n",
    "plt.style.use('ggplot')\n",
    "\n",
    "# Using numpy.busday_count outputs how many Fridays there are in the years 2022 - 2026\n",
    "# exclusive i.e. ends at 2025 weekmask counts only the Fridays\n",
    "Friday = np.busday_count('2022','2026', weekmask='Fri')\n",
    "\n",
    "# 6 months of Friday data\n",
    "Friday_Transactions = [511, 726, 518, 904, 804, 788, 520, 513, 955, 580, 814, 840, 774,\n",
    "       944, 825, 647, 731, 741, 957, 908, 749, 534]\n",
    "# set dtype to int16 to return a whole number with no decimal places\n",
    "average_Friday_Transactions = np.mean((Friday_Transactions), dtype=np.int16)\n",
    "#print(average_Friday_Customers) to get the average of 248.45454545454547 truncated to 248\n",
    "\n",
    "s = rng.poisson(average_Friday_Transactions, Friday)\n",
    "\n",
    "print(\"The number of Friday orders from Jan to Jun 2021 is:\", Friday_Transactions)\n",
    "print(\"The average count of Friday orders is:\", average_Friday_Transactions)\n",
    "print(\"The number of Fridays from 2022 until 2026 inclusive is:\", Friday)\n",
    "print(\"Using Poisson Distribution we are able to forecast the number of Friday orders\",s)\n",
    "\n",
    "\n",
    "coun, bins, ignored =plt.hist(s,100,density=True)\n",
    "plt.ylabel(\"Probability\")\n",
    "plt.xlabel(\"Number of Friday Customer Orders\")\n",
    "\n",
    "plt.title(\"Forecast of Friday Customer Orders from 2022 - 2025\")\n",
    "plt.grid(True)\n",
    "plt.show()"
   ]
  },
  {
   "cell_type": "markdown",
   "metadata": {},
   "source": [
    "### <span style='color:teal '> 3.5 ***Uniform Distribution*** <span>\n",
    "<br>\n",
    "Uniform distribution refers to a type of probability distribution in which all outcomes are equally likely<sup>26</sup>. The NumPy random uniform function gets random samples from the uniform distribution of data and then return the random samples in the form of a NumPy array<sup>27</sup>."
   ]
  },
  {
   "cell_type": "code",
   "execution_count": 173,
   "metadata": {},
   "outputs": [
    {
     "data": {
      "text/plain": [
       "Text(3.9250000000000043, 0.5, 'Frequency')"
      ]
     },
     "execution_count": 173,
     "metadata": {},
     "output_type": "execute_result"
    },
    {
     "data": {
      "image/png": "[encoded data removed]",
      "text/plain": [
       "<Figure size 360x360 with 1 Axes>"
      ]
     },
     "metadata": {},
     "output_type": "display_data"
    }
   ],
   "source": [
    "import numpy as np\n",
    "import seaborn as sns\n",
    "# With 1000 samples and an interval of between 10.0 (inclusive) and 100.0 (exclusive), generate a uniform distribution\n",
    "x = np.random.uniform(10.0, 100.0, size=1000)\n",
    "\n",
    "#Generate a distplot to visualise:\n",
    "sns.displot(x)\n",
    "plt.xlabel(\"Random Numbers\")\n",
    "plt.ylabel(\"Frequency\")"
   ]
  },
  {
   "cell_type": "markdown",
   "metadata": {},
   "source": [
    "## <span style='color:teal '> 4. The use of seeds in generation pseudorandom numbers</span>\n",
    "\n",
    "Seeds are used to initialise and generate pseudorandom numbers in Python<sup>28</sup>.\n",
    "\n",
    "A pseudorandom number is not a truly random number but a partial random number. The pseudo-random numbers are computer generated numbers that like they're random but are actually pre-determined<sup>29</sup>. It is an inherent limitation of computers to lack the ability to create true random numbers. NumPy random seed functions generate random numbers based on \"pseudo-random number generators' algorithms. NumPy random() function generates pseudo-random numbers based on a seed value. \n",
    "\n",
    "For specified seed value, the random state of the seed function is saved. So the particular seed value will produced the same random numbers even on multiple executions. An example of this can be seen below using seed value 101. The output is the same each time the code is executed. This is useful for when you are sharing code with another analyst and you need the code executed to be the same each time it is run.\n",
    "\n",
    "In the field of computer security having a good random seed is crucial as it is used to create encryption keys. "
   ]
  },
  {
   "cell_type": "code",
   "execution_count": 28,
   "metadata": {},
   "outputs": [
    {
     "data": {
      "text/plain": [
       "array([2, 7, 8, 9, 5, 9, 6, 1, 6, 9])"
      ]
     },
     "execution_count": 28,
     "metadata": {},
     "output_type": "execute_result"
    }
   ],
   "source": [
    "import numpy as np\n",
    "\n",
    "# Set seed as 101 - array remains the same each time code it executed\n",
    "np.random.seed(101)\n",
    "\n",
    "np.random.randint(low = 1, high = 10, size = 10)"
   ]
  },
  {
   "cell_type": "markdown",
   "metadata": {},
   "source": [
    "By setting the custom seed value we can reproduce the data given by a pseudorandom number generator. Therefore you will get the same number each time the program is executed. If you want to generate the same number every time, you need to pass the same seed value before calling any other random module function<sup>28</sup>. Below I will show how you can can set the seed with examples taken from Python Random.Seed<sup>28</sup>."
   ]
  },
  {
   "cell_type": "code",
   "execution_count": 176,
   "metadata": {},
   "outputs": [
    {
     "name": "stdout",
     "output_type": "stream",
     "text": [
      "Random number with seed 30\n",
      "42\n",
      "42\n",
      "42\n"
     ]
    }
   ],
   "source": [
    "import random\n",
    "print('Random number with seed 30')\n",
    "for i in range(3):\n",
    "    random.seed(30)\n",
    "    print(random.randint(25,50))"
   ]
  },
  {
   "cell_type": "code",
   "execution_count": 183,
   "metadata": {},
   "outputs": [
    {
     "name": "stdout",
     "output_type": "stream",
     "text": [
      "first Number 42\n",
      "Second Number  50\n",
      "Third Number 42\n"
     ]
    }
   ],
   "source": [
    "import random\n",
    "\n",
    "random.seed(30)\n",
    "print(\"first Number\", random.randint(25, 50))\n",
    "\n",
    "# generates a different random number\n",
    "print(\"Second Number \", random.randint(25, 50))\n",
    "\n",
    "# will generate a same random number as first one because seed value is same\n",
    "random.seed(30)\n",
    "print(\"Third Number\", random.randint(25, 50))"
   ]
  },
  {
   "cell_type": "markdown",
   "metadata": {},
   "source": [
    "In the example above it is seen that the seed must be set each time to ensure the same output. As the seed wasn't set for the second number a different number is printed than the first and third number outputs.\n",
    "\n",
    "It is possible to use the random.seed function on lists. Below is an example of using it in conjunction with random.sample to get a subsample of a list."
   ]
  },
  {
   "cell_type": "code",
   "execution_count": 184,
   "metadata": {},
   "outputs": [
    {
     "name": "stdout",
     "output_type": "stream",
     "text": [
      "First sample fruit list  ['Mango', 'Cherries', 'Grape']\n",
      "Second sample fruit list  ['Mango', 'Cherries', 'Grape']\n"
     ]
    }
   ],
   "source": [
    "import random\n",
    "\n",
    "# using random.seed() and random.sample() together\n",
    "fruit_list = [\"Apple\", \"Mango\", \"Banana\", \"Apricot\", \"Cherries\", \"Grape\", \"Kiwi\"]\n",
    "\n",
    "random.seed(3)\n",
    "sample_list = random.sample(fruit_list, 3)\n",
    "print(\"First sample fruit list \", sample_list)\n",
    "\n",
    "\n",
    "random.seed(3)\n",
    "sample_list = random.sample(fruit_list, 3)\n",
    "print(\"Second sample fruit list \", sample_list)\n"
   ]
  },
  {
   "cell_type": "markdown",
   "metadata": {},
   "source": [
    "You can use the same code as above and change the seeds to create a second random list different from the first."
   ]
  },
  {
   "cell_type": "code",
   "execution_count": 200,
   "metadata": {},
   "outputs": [
    {
     "name": "stdout",
     "output_type": "stream",
     "text": [
      "First sample fruit list  ['Mango', 'Cherries', 'Grape']\n",
      "Second sample fruit list  ['Cherries', 'Banana', 'Grape']\n"
     ]
    }
   ],
   "source": [
    "import random\n",
    "\n",
    "# using random.seed() and random.sample() together\n",
    "fruit_list = [\"Apple\", \"Mango\", \"Banana\", \"Apricot\", \"Cherries\", \"Grape\", \"Kiwi\"]\n",
    "\n",
    "random.seed(3)\n",
    "sample_list = random.sample(fruit_list, 3)\n",
    "print(\"First sample fruit list \", sample_list)\n",
    "\n",
    "\n",
    "random.seed(5)\n",
    "sample_list = random.sample(fruit_list, 3)\n",
    "print(\"Second sample fruit list \", sample_list)\n"
   ]
  },
  {
   "cell_type": "code",
   "execution_count": 199,
   "metadata": {},
   "outputs": [
    {
     "name": "stdout",
     "output_type": "stream",
     "text": [
      "Original list:  [10, 20, 30, 40, 50, 60]\n",
      "shuffled numbers [30, 60, 20, 40, 10, 50]\n",
      "shuffled numbers [20, 50, 60, 40, 30, 10]\n"
     ]
    }
   ],
   "source": [
    "import random\n",
    "\n",
    "x = [10, 20, 30, 40, 50, 60]\n",
    "print(\"Original list: \", numbers)\n",
    "\n",
    "for i in range(2):\n",
    "    random.seed(6)\n",
    "    random.shuffle(x)\n",
    "    print('shuffled numbers',x)"
   ]
  },
  {
   "cell_type": "markdown",
   "metadata": {},
   "source": [
    "## <span style='color:teal '> Conclusion <span>\n",
    "***\n",
    "\n",
    "I have explained the overall purpose of the NumPy package, the use of the \"simple random data and \"permutations\" functions, the use and purpose of at least five \"distribution\" functions which included: binomial, geometric, normal, poisson, and uniform. And have explained the use of seeds in generation pseudorandom numbers.\n"
   ]
  },
  {
   "cell_type": "markdown",
   "metadata": {},
   "source": [
    "## <span style='color:teal '> References <span>\n",
    "***\n",
    "\n",
    "1 [NumPy: The absolute basics for beginners](https://numpy.org/doc/stable/user/absolute_beginners.html)  \n",
    "2 [What is NumpY?](https://numpy.org/doc/stable/user/whatisnumpy.html)  \n",
    "3 [Introduction to NumPy](https://www.w3schools.com/python/numpy/numpy_intro.asp)  \n",
    "4 [Numpy Introduction](https://www.tutorialspoint.com/numpy/numpy_introduction.htm)  \n",
    "5 [The N-dimensional array (ndarray)](https://numpy.org/doc/stable/reference/arrays.ndarray.html)  \n",
    "6 [Python Lists vs. Numpy Arrays - What is the difference?](https://webcourses.ucf.edu/courses/1249560/pages/python-lists-vs-numpy-arrays-what-is-the-difference)  \n",
    "7 [Random Number Generator Using NumPy](https://www.datacamp.com/community/tutorials/numpy-random)  \n",
    "8 [Random Sampling (numpy.random)](https://numpy.org/doc/stable/reference/random/index.html)  \n",
    "9 [Random Numbers in NumPy](https://www.w3schools.com/python/numpy/numpy_random.asp)  \n",
    "10 [Integers Floats](https://processing.org/examples/integersfloats.html)  \n",
    "11 [Understanding Python Permutations function with examples](https://www.pythonpool.com/python-permutations/)  \n",
    "12 [numpy.random.shuffle](https://numpy.org/doc/stable/reference/random/generated/numpy.random.shuffle.html)  \n",
    "13 [numpy.reshape](https://numpy.org/doc/stable/reference/generated/numpy.reshape.html)  \n",
    "14 [numpy.random.permutation](https://numpy.org/doc/stable/reference/random/generated/numpy.random.permutation.html)  \n",
    "15 [numpy.random.generator.permutation](https://numpy.org/doc/stable/reference/random/generated/numpy.random.Generator.permutation.html#numpy.random.Generator.permutation)  \n",
    "16 [numpy.random.Generator.permuted](https://numpy.org/doc/stable/reference/random/generated/numpy.random.Generator.permuted.html)  \n",
    "17 [5 NumPy Distributions to Know](https://www.askpython.com/python-modules/numpy/numpy-data-distributions)  \n",
    "18 [numpy.random.binomial](https://numpy.org/doc/stable/reference/random/generated/numpy.random.binomial.html)  \n",
    "19 [Bernoulli Experiments, Bionomial Distribution](https://www3.nd.edu/~dgalvin1/10120/10120_S16/Topic19_8p6_Galvin.pdf)  \n",
    "20 [Binomial Distribution and Binomial Test in Python](https://towardsdatascience.com/binomial-distribution-and-binomial-test-in-python-statistics-pyshark-91aa6403d674)  \n",
    "21 [Geometric Distribution Explained with Python Examples](https://vitalflux.com/geometric-distribution-explained-with-python-examples/)  \n",
    "22 [Normal Distribution Explained with Python Examples](https://vitalflux.com/normal-distribution-explained-python-examples/)  \n",
    "23 [PyPlot Text](https://matplotlib.org/stable/gallery/pyplots/pyplot_text.html#sphx-glr-gallery-pyplots-pyplot-text-py)  \n",
    "24 [Poisson Distribution](https://www.investopedia.com/terms/p/poisson-distribution.asp)  \n",
    "25 [Random Generator](https://numpy.org/doc/stable/reference/random/generator.html)  \n",
    "26 [numpy.random.uniform](https://numpy.org/doc/stable/reference/random/generated/numpy.random.uniform.html)  \n",
    "27 [NumPy Random Uniform Function Explained in Python](https://www.pythonpool.com/numpy-random-uniform-function/)  \n",
    "28 [Python random.seed()function to initialise the pseudo-random number generator](https://pynative.com/python-random-seed/)  \n",
    "29 [NumPy Random Seed Generator](https://likegeeks.com/numpy-random-seed/)  \n",
    "\n"
   ]
  },
  {
   "cell_type": "code",
   "execution_count": null,
   "metadata": {},
   "outputs": [],
   "source": []
  }
 ],
 "metadata": {
  "kernelspec": {
   "display_name": "Python 3 (ipykernel)",
   "language": "python",
   "name": "python3"
  },
  "language_info": {
   "codemirror_mode": {
    "name": "ipython",
    "version": 3
   },
   "file_extension": ".py",
   "mimetype": "text/x-python",
   "name": "python",
   "nbconvert_exporter": "python",
   "pygments_lexer": "ipython3",
   "version": "3.8.5"
  }
 },
 "nbformat": 4,
 "nbformat_minor": 4
}
