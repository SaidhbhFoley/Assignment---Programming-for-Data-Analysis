{
 "cells": [
  {
   "cell_type": "markdown",
   "metadata": {},
   "source": [
    "# Numpy-Random Package"
   ]
  },
  {
   "cell_type": "markdown",
   "metadata": {},
   "source": [
    "## Assignment Programming for Data Analysis\n",
    "*****\n"
   ]
  },
  {
   "cell_type": "markdown",
   "metadata": {},
   "source": [
    "The following assignment concerns the numpy.random package in Python. You are required to create a jupyter notebook explaining the use of the package, including detailed explanations of at least five distributions provided for in the package. There are four distinct tasks to be carried out in your Jupyter notebook:\n",
    "1. Explain the overall purpose of the package\n",
    "2. Explain the use of the \"Simple random data\" and \"Permutations\" functions\n",
    "3. Explain the use and purpose of at lease five \"Distributions\" functions\n",
    "4. Explain the use of seeds in generation pseudorandom numbers"
   ]
  },
  {
   "cell_type": "markdown",
   "metadata": {},
   "source": [
    "### 1. The Overall Purpose of the Package\n",
    "***\n",
    "\n",
    "![NumPy](data:image/png;base64,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\n",
    ")\n",
    "\n"
   ]
  },
  {
   "cell_type": "markdown",
   "metadata": {},
   "source": [
    "##### 1.1 ***What is NumPy?***\n",
    "\n",
    "<br>\n",
    "NumPy (Numerical Python) is an open source Python library that's used in almost every field of science and engineering. It's the universal standard for working with numerical data in Python[1]. It provides a multidimensional array object, various derived objects (such as masked arrays and matrices)[2]. It also performs the following operations:\n",
    "\n",
    "1. Mathematical and logical\n",
    "2. Shape manipulation and Fourier transforms\n",
    "3. Basic linear algebra\n",
    "\n",
    "To use NumPy you must use the command:\n",
    ">import numpy as np\n",
    "\n",
    "In Python we have lists that serve the purpose of arrays, but they are slow to process. NumPy aims to provide an array object that is uo to 50x faster than traditional Python lists. Arrays are very frequently used in data science, where speed and resources are very important[3].\n",
    "NumPy is often used in conjunction with packages such as SciPy, Pandas, and Mat-plotlib[4]. \n",
    "\n",
    "The core functionality of NumPy is its 'ndarray\", for n-dimensional array, data structure. An ndarray is a multidimensional container of items of the same type and size. The number of dimensions and items in an array is defined by its shape. The contents of an ndarray can be accessed and modified by indexing or slicing the arrat, and via the methods and attributes of the ndarray[5]. \n",
    "\n",
    "There are several important differences between NumPy arrays and standard Python sequences:\n",
    "- NumPy arrays have a fixed size at creation. Changing the size of an ndarray will create a new array and delete the original\n",
    "- The elements in a NumPy array are all required to be of the same data type, and thus will be the same size in memory. The exception: one can have arrays of objects, thereby allowing for arrays of different sized elements\n",
    "- NumPy arrays facilitate advanced mathematical and other types of operations on large numbers of data. Typically, such operations are executed more efficiently and with less code than is possible using Python's built-in sequences\n",
    "- A growing plethora of scientific and mathematical Python-based packages are using NumPy arrays.\n",
    "\n",
    "##### 1.2  ***Benefits of NumPy***\n",
    "\n",
    "\n",
    "NumPy is not only more efficient in storing data it also makes it extremely easy to perform mathematical operations on it. \n",
    "NumPy data structures perform better in:\n",
    "- **Size**: NumPy data structures take up less space\n",
    "- **Performance**: they are faster than lists\n",
    "- **Functionality**: NumPy has optimised functions such as linear algebra operations built in\n",
    "The main benefits of using NumPy arrays are smaller memory consumption and better runtime behaviour[6]. \n",
    "When NumPy is used in conjunction with Matplotlib or Seaborn it is possible to produce visualisations of the data\n",
    "\n",
    "##### 1.3  ***Why Use NumPy***\n",
    "\n",
    "The functions in NumPy can perfom complex mathematical operations. \n",
    "A Python Programmer does not have to be able to understand these complex mathematical operations that NumPy can operate, they simply need to understand the variables required for the NumPy function. \n",
    "\n",
    "An example was given to us at the start of this course to help us to wrap our heads around the NumPy library was that we were to think of it as learning to drive a car. We may not understand the mechanics but due to the technology we don't need to in order to drive.\n",
    "\n",
    "An example of a complex mathematical operation NumPy can calculate is the probability of flipping a coin x amount of times and getting heads taken from Random Number Generator Using Numpy[7].\n",
    "<hr>"
   ]
  },
  {
   "cell_type": "code",
   "execution_count": 1,
   "metadata": {},
   "outputs": [
    {
     "data": {
      "text/plain": [
       "0.068"
      ]
     },
     "execution_count": 1,
     "metadata": {},
     "output_type": "execute_result"
    }
   ],
   "source": [
    "# Flipping a Coin Example\n",
    "import numpy as np\n",
    "\n",
    "np.random.seed(42)\n",
    "random_numbers = np.random.random(size=4)\n",
    "heads = random_numbers < 0.5\n",
    "n_all_heads = 0\n",
    "for _ in range (1000):\n",
    "    heads = np.random.random(size=4) <0.5\n",
    "    n_heads = np.sum(heads)\n",
    "    if n_heads ==4:\n",
    "        n_all_heads +=1\n",
    "n_all_heads / 1000"
   ]
  },
  {
   "cell_type": "markdown",
   "metadata": {},
   "source": [
    "##### 1.4  ***Random sampling (numpy.random) Package***\n",
    "\n",
    "NumPy's random number routines produce pseudo random numbers using combinations of a BitGenerator to create sequences and a Generator to use those sequences to sample from different statistical distributions[8]. Random means something that can not be predicted logically [7]. Random number does not mean a different number every time [9]. \n",
    "\n",
    "In the example above (*Flipping a Coin Example*) a coin toss is simulated using the np.random() function, which draws a number between 0 and 1 such that all numbers in this interval are equally likely to occur.\n",
    "\n",
    "The numpy.random package offers several different functions for creating random numbered arrays[8].\n",
    "\n",
    "**Simple random data**\n",
    "\n",
    "1. rand\n",
    "2. randn\n",
    "3. randint\n",
    "4. random_integers\n",
    "5. random_sample\n",
    "6. random\n",
    "7. ranf\n",
    "8. sample\n",
    "9. choice\n",
    "10. bytes\n",
    "\n",
    "**Permutations**\n",
    "\n",
    "1. shuffle\n",
    "2. permutation\n",
    "3. permuted\n",
    "\n",
    "**Distributions**\n",
    "\n",
    "1. binomial\n",
    "2. uniform\n",
    "3. normal\n"
   ]
  },
  {
   "cell_type": "markdown",
   "metadata": {},
   "source": [
    "### 2. \"Simple Random Data\" and \"Permutations\" Functions\n",
    "***"
   ]
  },
  {
   "cell_type": "markdown",
   "metadata": {},
   "source": [
    "#### 2.1 ***Simple Random Data***\n",
    "\n",
    "There are two basic NumPy Simple Random Data Functions that are the most commonly used:\n",
    "\n",
    "- randint()\n",
    "- rand()\n",
    "\n",
    "These are used to:\n",
    "\n",
    "- Generate single random numbers\n",
    "- Generate arrays of random numbers\n",
    "- Generate multidimensional arrays of random numbers\n",
    "\n",
    "As these are the most commonly used functions from the Simple Random Data Functions I will give an overview of these functions.\n",
    "\n",
    "***randint() or rand()***\n",
    "\n",
    "Whether you use randint() or rand() depends on if you are working with integers or floats (decimal places). An integer (int) is a number without a decimal point. A float is a floating point number, which means it is a number that has a decimal place. Floats are used when more precision is required [10]. As integers and floats are different data types there are different functions for working with integers and floats.\n"
   ]
  },
  {
   "cell_type": "markdown",
   "metadata": {},
   "source": [
    "##### 2.1.1 Integers\n",
    "\n",
    "If you are working with integers the randint() function is used. This function can be used to generate random numbers, for example if you wanted a random number between 0 and 250 you would the randint function, as seen below. Examples are taken from w3schools tutorial on NumPy Random, Random Intro [9]."
   ]
  },
  {
   "cell_type": "code",
   "execution_count": 2,
   "metadata": {},
   "outputs": [
    {
     "name": "stdout",
     "output_type": "stream",
     "text": [
      "147\n"
     ]
    }
   ],
   "source": [
    "from numpy import random\n",
    "\n",
    "# Random number between 0 and 250\n",
    "x = random.randint(250)\n",
    "\n",
    "print(x)"
   ]
  },
  {
   "cell_type": "markdown",
   "metadata": {},
   "source": [
    "It is possible to create random arrays using code similar to that above. The size parameter allows you to specify the shape of the array."
   ]
  },
  {
   "cell_type": "code",
   "execution_count": 3,
   "metadata": {
    "scrolled": true
   },
   "outputs": [
    {
     "name": "stdout",
     "output_type": "stream",
     "text": [
      "[ 24  69  62 163 129]\n"
     ]
    }
   ],
   "source": [
    "from numpy import random\n",
    "\n",
    "# Generate a 1-D array containing 5 random integers from 0 to 250\n",
    "x = random.randint(250, size=(5))\n",
    "\n",
    "print(x)"
   ]
  },
  {
   "cell_type": "code",
   "execution_count": 4,
   "metadata": {},
   "outputs": [
    {
     "name": "stdout",
     "output_type": "stream",
     "text": [
      "[[149 223  15 145 196]\n",
      " [181  99  29  44  18]\n",
      " [214  33 140 170  61]]\n"
     ]
    }
   ],
   "source": [
    "from numpy import random\n",
    "\n",
    "# Generate a 2-D array with 3 rows, containing 5 random integers from 0 to 250\n",
    "x = random.randint(250, size=(3,5))\n",
    "\n",
    "print(x)"
   ]
  },
  {
   "cell_type": "markdown",
   "metadata": {},
   "source": [
    "##### 2.1.2 Floats\n",
    "If you are working with floats the rand() function is used. This function can be used to generate a random decimal place value, for example if you wanted a random decimal place number between 0 and 1 you would the rand() function, as seen below. Examples are taken from w3schools tutorial on NumPy Random, Random Intro [9]."
   ]
  },
  {
   "cell_type": "code",
   "execution_count": 5,
   "metadata": {},
   "outputs": [
    {
     "name": "stdout",
     "output_type": "stream",
     "text": [
      "0.9760326986002038\n"
     ]
    }
   ],
   "source": [
    "from numpy import random\n",
    "\n",
    "# Random decimal between 0 and 1\n",
    "x = random.rand()\n",
    "\n",
    "print(x)"
   ]
  },
  {
   "cell_type": "code",
   "execution_count": 6,
   "metadata": {},
   "outputs": [
    {
     "name": "stdout",
     "output_type": "stream",
     "text": [
      "[0.34481761 0.33731095 0.31191191 0.12211152 0.11113715]\n"
     ]
    }
   ],
   "source": [
    "from numpy import random\n",
    "\n",
    "# Generate a 1-D array containing 5 random floats\n",
    "x = random.rand(5)\n",
    "\n",
    "print(x)"
   ]
  },
  {
   "cell_type": "code",
   "execution_count": 7,
   "metadata": {},
   "outputs": [
    {
     "name": "stdout",
     "output_type": "stream",
     "text": [
      "[[0.64810503 0.87511804 0.79052051 0.14110759 0.54558212]\n",
      " [0.10559155 0.04529464 0.65638586 0.53515233 0.08202369]\n",
      " [0.03493925 0.98975641 0.03002133 0.44452825 0.50461902]]\n"
     ]
    }
   ],
   "source": [
    "from numpy import random\n",
    "\n",
    "# Generate a 2-D array with 3 rows, containing 5 random floats\n",
    "x = random.rand(3,5)\n",
    "\n",
    "print(x)"
   ]
  },
  {
   "cell_type": "markdown",
   "metadata": {},
   "source": [
    "#### 2.2 Permutations\n",
    "\n",
    "Permutations means different orders by which elements can be arranged. The elements might be of a string, or a list, or any other data type. It is the rearrangement of items in different ways. Python has different methods which help us achieve python permutations [11].\n",
    "\n",
    "For example, if we have three balls - RED BLUE YELLOW\n",
    "\n",
    "We can make different arrangements for this ball\n",
    "\n",
    "- RED BLUE YELLOW\n",
    "- RED YELLOW BLUE \n",
    "- YELLOW RED BLUE \n",
    "- YELLOW BLUE RED \n",
    "- BLUE RED YELLOW \n",
    "- BLUE YELLOW RED\n",
    "\n",
    "These are all the possible arrangements where the order is essential and there is no repition, and this is known as permutation[11].\n",
    "\n",
    "NumPy has three permutations functions, shuffle, permutation and permuted.\n"
   ]
  },
  {
   "cell_type": "markdown",
   "metadata": {},
   "source": [
    "##### 2.2.1 shuffle()\n",
    "\n",
    "The random.shuffle() function modifies a sequence in-place by shuffling its contents. This function only shuffles the array along the first axis of a multi-dimensional array. The order of sub-arrays is changed but their contents remain the same [12]. Numpy.reshape gives a new shape to an array without changing its data [13].\n",
    "\n",
    "To illustrate the shuffle function I will create a program to shuffle a deck of cards."
   ]
  },
  {
   "cell_type": "markdown",
   "metadata": {},
   "source": [
    "***Shuffling a Deck of Cards***\n",
    "\n",
    "Shuffling a deck of cards in an excellent visualisation tool for the function shuffle() in NumPy. \n"
   ]
  },
  {
   "cell_type": "code",
   "execution_count": 8,
   "metadata": {},
   "outputs": [
    {
     "name": "stdout",
     "output_type": "stream",
     "text": [
      "Sorted Deck\n",
      "[ 0  1  2  3  4  5  6  7  8  9 10 11 12 13 14 15 16 17 18 19 20 21 22 23\n",
      " 24 25 26 27 28 29 30 31 32 33 34 35 36 37 38 39 40 41 42 43 44 45 46 47\n",
      " 48 49 50 51]\n",
      "Shuffled Deck\n",
      "[46  5 12  7  2 32 24  8 37 21 39  4 27 19 43 25 26 35 11 17 14 42 51 48\n",
      " 22 28  0 36 10 45  6 13 33 15 49 16 23 38 40  9  1 31 44 50 47 20 34 30\n",
      " 29 41 18  3]\n",
      "Deck Sorted by Suit\n",
      "[[ 0  1  2  3  4  5  6  7  8  9 10 11 12]\n",
      " [13 14 15 16 17 18 19 20 21 22 23 24 25]\n",
      " [26 27 28 29 30 31 32 33 34 35 36 37 38]\n",
      " [39 40 41 42 43 44 45 46 47 48 49 50 51]]\n",
      "Deck Shuffled by Suit\n",
      "[[39 40 41 42 43 44 45 46 47 48 49 50 51]\n",
      " [ 0  1  2  3  4  5  6  7  8  9 10 11 12]\n",
      " [26 27 28 29 30 31 32 33 34 35 36 37 38]\n",
      " [13 14 15 16 17 18 19 20 21 22 23 24 25]]\n"
     ]
    }
   ],
   "source": [
    "import numpy as np\n",
    "\n",
    "# Creating a virtual deck\n",
    "vir_deck = np.arange(52)\n",
    "print(\"Sorted Deck\")\n",
    "print(vir_deck)\n",
    "\n",
    "# Shuffling the virtual deck\n",
    "np.random.shuffle(vir_deck)\n",
    "print('Shuffled Deck')\n",
    "print(vir_deck)\n",
    "\n",
    "vir_deck = np.arange(52).reshape((4,13))\n",
    "print('Deck Sorted by Suit')\n",
    "print(vir_deck)\n",
    "\n",
    "vir_deck = np.arange(52).reshape((4,13))\n",
    "np.random.shuffle(vir_deck)\n",
    "print('Deck Shuffled by Suit')\n",
    "print(vir_deck)"
   ]
  },
  {
   "cell_type": "markdown",
   "metadata": {},
   "source": [
    "To make it easier to view the deck of cards before and after the shuffle assigned the cards will be assigned their suit with an image:\n",
    "\n",
    "> ♣️ club\n",
    "> ♠️ ace\n",
    "> ♥️ heart\n",
    "> ♦️ diamond"
   ]
  },
  {
   "cell_type": "code",
   "execution_count": 9,
   "metadata": {},
   "outputs": [
    {
     "name": "stdout",
     "output_type": "stream",
     "text": [
      "Sorted deck\n",
      "['A♣️', 'J♣️', 'Q♣️', 'K♣️', '2♣️', '3♣️', '4♣️', '5♣️', '6♣️', '7♣️', '8♣️', '9♣️', '10♣️', 'A♠️', 'J♠️', 'Q♠️', 'K♠️', '2♠️', '3♠️', '4♠️', '5♠️', '6♠️', '7♠️', '8♠️', '9♠️', '10♠️', 'A♥️', 'J♥️', 'Q♥️', 'K♥️', '2♥️', '3♥️', '4♥️', '5♥️', '6♥️', '7♥️', '8♥️', '9♥️', '10♥️', 'A♦️', 'J♦️', 'Q♦️', 'K♦️', '2♦️', '3♦️', '4♦️', '5♦️', '6♦️', '7♦️', '8♦️', '9♦️', '10♦️']\n",
      "Shuffled deck\n",
      "['3♠️', '2♣️', 'Q♥️', 'A♠️', '6♥️', 'K♦️', '3♣️', '7♥️', 'J♠️', '7♦️', 'A♣️', 'K♠️', '2♥️', '4♣️', 'K♣️', '10♠️', '8♠️', '8♥️', '5♠️', '7♠️', 'A♦️', '5♣️', '8♦️', 'J♦️', '2♦️', '5♥️', '6♣️', '5♦️', '8♣️', '2♠️', '6♦️', '10♥️', '6♠️', '10♦️', '10♣️', '4♥️', '7♣️', '3♥️', '9♠️', 'J♥️', '9♥️', '4♠️', 'K♥️', '4♦️', 'Q♠️', 'J♣️', 'A♥️', 'Q♦️', '9♦️', '9♣️', 'Q♣️', '3♦️']\n"
     ]
    }
   ],
   "source": [
    "import numpy as np\n",
    "# Assigning the number 0-51 to suits and the corresponding cards to suits with images for\n",
    "# easier visualisation - allows you to see the shuffle more clearly with the card numbers\n",
    "# assigned to club, ace, heart and diamond images\n",
    "deck = [\"A♣️\",\"J♣️\",\"Q♣️\",\"K♣️\",\"2♣️\",\"3♣️\",\"4♣️\",\"5♣️\",\"6♣️\",\"7♣️\",\"8♣️\",\"9♣️\",\"10♣️\",\n",
    "        \"A♠️\",\"J♠️\",\"Q♠️\",\"K♠️\",\"2♠️\",\"3♠️\",\"4♠️\",\"5♠️\",\"6♠️\",\"7♠️\",\"8♠️\",\"9♠️\",\"10♠️\",\n",
    "        \"A♥️\",\"J♥️\",\"Q♥️\",\"K♥️\",\"2♥️\",\"3♥️\",\"4♥️\",\"5♥️\",\"6♥️\",\"7♥️\",\"8♥️\",\"9♥️\",\"10♥️\",\n",
    "        \"A♦️\",\"J♦️\",\"Q♦️\",\"K♦️\",\"2♦️\",\"3♦️\",\"4♦️\",\"5♦️\",\"6♦️\",\"7♦️\",\"8♦️\",\"9♦️\",\"10♦️\"]\n",
    "\n",
    "print(\"Sorted deck\")\n",
    "print(deck)\n",
    "\n",
    "\n",
    "# Shuffle the deck\n",
    "\n",
    "np.random.shuffle(deck)\n",
    "\n",
    "print(\"Shuffled deck\")\n",
    "print(deck)"
   ]
  },
  {
   "cell_type": "markdown",
   "metadata": {},
   "source": [
    "##### 2.2.2 permutation()\n",
    "\n",
    "Randomly permute a sequence, or return a permuted range. If x is a multi-dimensional array, it is only shuffled along its first index [14, 15]. "
   ]
  },
  {
   "cell_type": "code",
   "execution_count": 10,
   "metadata": {},
   "outputs": [
    {
     "data": {
      "text/plain": [
       "array([2, 6, 3, 5, 9, 8, 1, 0, 7, 4])"
      ]
     },
     "execution_count": 10,
     "metadata": {},
     "output_type": "execute_result"
    }
   ],
   "source": [
    "import numpy as np\n",
    "rng = np.random.default_rng()\n",
    "rng.permutation(10)"
   ]
  },
  {
   "cell_type": "markdown",
   "metadata": {},
   "source": [
    "The above example creates an array from 0 - 9, with the numbers arranged randomly within the array. It is also possible to input an array that is then randomly shuffled using permutation as seen below."
   ]
  },
  {
   "cell_type": "code",
   "execution_count": 11,
   "metadata": {},
   "outputs": [
    {
     "data": {
      "text/plain": [
       "array([ 4, 15,  1,  9, 12])"
      ]
     },
     "execution_count": 11,
     "metadata": {},
     "output_type": "execute_result"
    }
   ],
   "source": [
    "import numpy as np\n",
    "rng.permutation([1,4,9,12,15])"
   ]
  },
  {
   "cell_type": "markdown",
   "metadata": {},
   "source": [
    "As with shuffle it is possible to reshape the array into a specified number of rows and columns using .reshape. An exmaple of this is provided below"
   ]
  },
  {
   "cell_type": "code",
   "execution_count": 12,
   "metadata": {},
   "outputs": [
    {
     "data": {
      "text/plain": [
       "array([[0, 1, 2],\n",
       "       [3, 4, 5],\n",
       "       [6, 7, 8]])"
      ]
     },
     "execution_count": 12,
     "metadata": {},
     "output_type": "execute_result"
    }
   ],
   "source": [
    "import numpy as np\n",
    "arr = np.arange(9).reshape((3,3))\n",
    "rng.permutation(arr, axis=1)"
   ]
  },
  {
   "cell_type": "markdown",
   "metadata": {},
   "source": [
    "##### 2.2.3 permuted()\n",
    "\n",
    "Randomly permute x along axis axis. Unlike shuffle each slice along the given axis is shuffled independently of the others [16]."
   ]
  },
  {
   "cell_type": "code",
   "execution_count": 13,
   "metadata": {},
   "outputs": [
    {
     "data": {
      "text/plain": [
       "array([[ 0,  1,  2,  3,  4,  5,  6,  7],\n",
       "       [ 8,  9, 10, 11, 12, 13, 14, 15],\n",
       "       [16, 17, 18, 19, 20, 21, 22, 23]])"
      ]
     },
     "execution_count": 13,
     "metadata": {},
     "output_type": "execute_result"
    }
   ],
   "source": [
    "import numpy as np\n",
    "\n",
    "# Create random generator\n",
    "rng = np.random.default_rng()\n",
    "\n",
    "# Create an array\n",
    "x = np.arange(24).reshape((3,8))\n",
    "x"
   ]
  },
  {
   "cell_type": "code",
   "execution_count": 14,
   "metadata": {},
   "outputs": [
    {
     "data": {
      "text/plain": [
       "array([[ 5,  1,  7,  4,  2,  3,  0,  6],\n",
       "       [15, 12, 11,  9, 14, 13,  8, 10],\n",
       "       [17, 16, 21, 19, 18, 20, 23, 22]])"
      ]
     },
     "execution_count": 14,
     "metadata": {},
     "output_type": "execute_result"
    }
   ],
   "source": [
    "import numpy as np\n",
    "\n",
    "# Shuffle rows of x\n",
    "y = rng.permuted(x, axis=1)\n",
    "y"
   ]
  },
  {
   "cell_type": "code",
   "execution_count": 15,
   "metadata": {},
   "outputs": [
    {
     "data": {
      "text/plain": [
       "array([[ 0,  1,  2,  3,  4,  5,  6,  7],\n",
       "       [ 8,  9, 10, 11, 12, 13, 14, 15],\n",
       "       [16, 17, 18, 19, 20, 21, 22, 23]])"
      ]
     },
     "execution_count": 15,
     "metadata": {},
     "output_type": "execute_result"
    }
   ],
   "source": [
    "import numpy as np\n",
    "\n",
    "# Reprint x to show it has not been modified\n",
    "x"
   ]
  },
  {
   "cell_type": "code",
   "execution_count": 16,
   "metadata": {},
   "outputs": [
    {
     "data": {
      "text/plain": [
       "array([[ 0,  4,  6,  2,  7,  5,  1,  3],\n",
       "       [15, 10,  9, 14,  8, 12, 13, 11],\n",
       "       [19, 20, 18, 17, 22, 23, 21, 16]])"
      ]
     },
     "execution_count": 16,
     "metadata": {},
     "output_type": "execute_result"
    }
   ],
   "source": [
    "import numpy as np\n",
    "\n",
    "# In order to shuffle the rows of x, pass x as the out parameter\n",
    "y = rng.permuted(x, axis=1, out=x)\n",
    "x"
   ]
  },
  {
   "cell_type": "code",
   "execution_count": 17,
   "metadata": {},
   "outputs": [
    {
     "data": {
      "text/plain": [
       "True"
      ]
     },
     "execution_count": 17,
     "metadata": {},
     "output_type": "execute_result"
    }
   ],
   "source": [
    "y is x"
   ]
  },
  {
   "cell_type": "markdown",
   "metadata": {},
   "source": [
    "### 3. Distribution Functions\n",
    "***\n",
    "\n",
    "Data distributions enables us to have an idea about the distribution of the data. That is, it represents a list of all the possible values in the term of the data range and also represents the frequency of these data values in the distribution [17]. The NumPy package allows data to be randomly generated and analysed. \n",
    "\n",
    "In this assignment five distribution factors will be examined.\n",
    "\n",
    "1. random.binomial\n",
    "2. random.geometric\n",
    "3. random.normal\n",
    "4. random.poisson\n",
    "5. random.weibull\n",
    "\n",
    "#### 3.1 ***Binomial Distribution***\n",
    "Bionomial distribution samples have specified paramters, n trials and p probability of success where n an integer >=0 and p is the interval [0,1]. Drawn samples from the parameterized binomial distribution, where each sample is equal to the number of success over the n trials [18]. Binomial distribution is as Bernoulli Experiment. A Bernoulli Experiment has certain rules [19]:\n",
    "\n",
    "1. The experiment is repeated a set number of times (*n* times)\n",
    "2. Each trial has only two possible outcomes \"success\" and \"failure\". The possible outcomes are exactly the same for each trial\n",
    "3. The probability of success remains the same for each trial. We use *p* for the probability of success and *q* = 1 - *p* for the probability of failure\n",
    "4. The trials are independent\n",
    "5. We are interested in the random variable *X* where *X* = the number of successes\n",
    "\n",
    "Examples of this can be seen in the experiment below in rolling a dice example [20]"
   ]
  },
  {
   "cell_type": "code",
   "execution_count": 18,
   "metadata": {},
   "outputs": [
    {
     "name": "stdout",
     "output_type": "stream",
     "text": [
      "[1.06890008e-01 2.62717609e-01 2.95952970e-01 2.02056244e-01\n",
      " 9.31162813e-02 3.05152151e-02 7.29178834e-03 1.28014184e-03\n",
      " 1.63873579e-04 1.49175414e-05 9.16620011e-07 3.41348087e-08\n",
      " 5.82622237e-10]\n"
     ]
    },
    {
     "data": {
      "image/png": "[encoded data removed]",
      "text/plain": [
       "<Figure size 432x288 with 1 Axes>"
      ]
     },
     "metadata": {
      "needs_background": "light"
     },
     "output_type": "display_data"
    }
   ],
   "source": [
    "import numpy as np\n",
    "import matplotlib.pyplot as plt\n",
    "from scipy.stats import binom\n",
    "import seaborn as sns\n",
    "\n",
    "# Roll a die 12 times\n",
    "n = 12\n",
    "\n",
    "# Probability of rolling any number is 1/6 or 0.17\n",
    "p = 0.17\n",
    "\n",
    "# Create an array representing number of times any number can be observed\n",
    "x = np.arange(0, n+1)\n",
    "\n",
    "binomial_pmf = binom.pmf(x, n, p)\n",
    "print(binomial_pmf)\n",
    "\n",
    "plt.plot(x, binomial_pmf, color='blue')\n",
    "plt.title(f\"Binomial Distribution (n={n}, p={p})\")\n",
    "plt.show()"
   ]
  },
  {
   "cell_type": "markdown",
   "metadata": {},
   "source": [
    "#### 3.2 ***Geometric Distribution***\n",
    "\n",
    "Geometric distribution is a discrete probabilty distribution. It represents the probability that an event having probability *p* will happen (success) after *X* number of Bernoulli trials. As stated before a Bernoulli trial results in either success or failure *q* = 1 - *p*. An example of geometric distribution is below where the probability of a perfect shot is analysed [21]."
   ]
  },
  {
   "cell_type": "code",
   "execution_count": 19,
   "metadata": {},
   "outputs": [
    {
     "data": {
      "text/plain": [
       "array([6.000000e-01, 2.400000e-01, 9.600000e-02, 3.840000e-02,\n",
       "       1.536000e-02, 6.144000e-03, 2.457600e-03, 9.830400e-04,\n",
       "       3.932160e-04, 1.572864e-04])"
      ]
     },
     "execution_count": 19,
     "metadata": {},
     "output_type": "execute_result"
    }
   ],
   "source": [
    "import numpy as np\n",
    "from scipy.stats import geom\n",
    "import matplotlib.pyplot as plt\n",
    "\n",
    "# Probability of perfect first throw is 0.6\n",
    "p = 0.6\n",
    "\n",
    "# The number of throws to make is 10\n",
    "X = [1,2,3,4,5,6,7,8,9,10]\n",
    "\n",
    "#Calculate geometric probability distribution\n",
    "geom_pd = geom.pmf(X,p)\n",
    "geom_pd"
   ]
  },
  {
   "cell_type": "markdown",
   "metadata": {},
   "source": [
    "#### 3.3 ***Normal Distribution***\n",
    "\n",
    "Normal distribution is the default probability for many real world examples. It represents a symmetric distribution where most of the observations cluster around the central peak - mean  of the distribution. A normal distribution can be thought of as a bell curve or Gaussian Distribution which typically has two parameters: mean and standard deviation. Properties of normal distribution [22]:\n",
    "\n",
    "- Normal distribution is symmetric and therefore can't be used to model skewed distributions\n",
    "- Half is less than the mean and half is greater than the mean\n",
    "\n",
    "Below is an example using human IQ, with IQ the mean is typically 100 and standard deviation is 15. Example roughly taken from Matplotlib [23]."
   ]
  },
  {
   "cell_type": "code",
   "execution_count": 20,
   "metadata": {},
   "outputs": [
    {
     "data": {
      "image/png": "[encoded data removed]",
      "text/plain": [
       "<Figure size 432x288 with 1 Axes>"
      ]
     },
     "metadata": {},
     "output_type": "display_data"
    }
   ],
   "source": [
    "import numpy as np\n",
    "import matplotlib.pyplot as plt\n",
    "from scipy.stats import norm\n",
    "import statistics\n",
    "\n",
    "plt.style.use('ggplot')\n",
    "\n",
    "# Create a normal distribution with mean as 100 and std as 15\n",
    "mu = 100\n",
    "sigma = 15\n",
    "\n",
    "# data is the normal distrubution of mu and sigma with 1000 values\n",
    "data = np.random.normal(mu,sigma,10000)\n",
    "\n",
    "plt.hist(data, bins=50, density=True, alpha=0.75)\n",
    "\n",
    "# Creating the normal distribution to overlay the histogram\n",
    "xmin, xmax = plt.xlim()\n",
    "x = np.linspace(xmin, xmax, 10000)\n",
    "p = norm.pdf(x, mu, sigma)\n",
    "plt.plot(x, p, linewidth=1)\n",
    "\n",
    "plt.title('Histogram of IQ')\n",
    "\n",
    "plt.grid(True)\n",
    "plt.show()"
   ]
  },
  {
   "cell_type": "markdown",
   "metadata": {},
   "source": [
    "#### 3.4 ***Poisson Distribution***\n",
    "\n",
    "Poisson distribution is a probability distribution that is used to show how many times an event is likely to occur over a specified period [24]."
   ]
  },
  {
   "cell_type": "code",
   "execution_count": 21,
   "metadata": {},
   "outputs": [
    {
     "data": {
      "text/plain": [
       "array([1.35335283e-01, 2.70670566e-01, 2.70670566e-01, 1.80447044e-01,\n",
       "       9.02235222e-02, 3.60894089e-02, 1.20298030e-02, 3.43708656e-03,\n",
       "       8.59271640e-04, 1.90949253e-04])"
      ]
     },
     "execution_count": 21,
     "metadata": {},
     "output_type": "execute_result"
    }
   ],
   "source": [
    "import numpy as np\n",
    "import matplotlib.pyplot as plt\n",
    "import scipy.stats as stats\n",
    "\n",
    "rate = 2\n",
    "n = np.arange(0,10)\n",
    "y = stats.poisson.pmf(n,rate)\n",
    "y"
   ]
  },
  {
   "cell_type": "markdown",
   "metadata": {},
   "source": [
    "Below I have created an example of customers ordering a takeaway on a Friday from Deliveroo in Dublin 8. Using 6 months of data from Friday customer transactions. This is all entirely fictional and used as an example of how using poisson distribution it is possible to forecast future customer transactions on any Friday for the next 3 years, 2022 - 2025. First np.busday_count is used to get how many Fridays there were in the first 6 months of 2021 in order to create the data needed for this example."
   ]
  },
  {
   "cell_type": "code",
   "execution_count": 22,
   "metadata": {},
   "outputs": [
    {
     "data": {
      "text/plain": [
       "22"
      ]
     },
     "execution_count": 22,
     "metadata": {},
     "output_type": "execute_result"
    }
   ],
   "source": [
    "import numpy as np\n",
    "import matplotlib.pyplot as plt\n",
    "np.busday_count('2021-01','2021-06', weekmask='Fri')"
   ]
  },
  {
   "cell_type": "markdown",
   "metadata": {},
   "source": [
    "Next I use np.random.rand() to create a random array that will be used as customer numbers. As this is random it will change each time it is run so I have taken an array at random (511, 726, 518, 904, 804, 788, 520, 513, 955, 580, 814, 840, 774,944, 825, 647, 731, 741, 957, 908, 749, 534) is the array I have used in the code below [25]."
   ]
  },
  {
   "cell_type": "code",
   "execution_count": 29,
   "metadata": {},
   "outputs": [
    {
     "data": {
      "text/plain": [
       "array([511, 726, 518, 904, 804, 788, 520, 513, 955, 580, 814, 840, 774,\n",
       "       944, 825, 647, 731, 741, 957, 908, 749, 534])"
      ]
     },
     "execution_count": 29,
     "metadata": {},
     "output_type": "execute_result"
    }
   ],
   "source": [
    "import numpy as np\n",
    "from numpy import random\n",
    "\n",
    "rng = np.random.default_rng()\n",
    "rng.integers(600, size=22)\n",
    "rints = rng.integers(low = 500, high = 1000, size=22)\n",
    "rints"
   ]
  },
  {
   "cell_type": "code",
   "execution_count": 33,
   "metadata": {},
   "outputs": [
    {
     "name": "stdout",
     "output_type": "stream",
     "text": [
      "The number of Friday orders from Jan to Jun 2021 is: [511, 726, 518, 904, 804, 788, 520, 513, 955, 580, 814, 840, 774, 944, 825, 647, 731, 741, 957, 908, 749, 534]\n",
      "The average count of Friday orders is: 740\n",
      "The number of Fridays from 2022 until 2026 inclusive is: 208\n",
      "Using Poisson Distribution we are able to forecast the number of Friday orders [706 759 702 753 737 812 720 730 721 750 770 766 721 746 727 750 727 740\n",
      " 773 723 675 773 706 740 726 805 715 721 708 729 716 750 721 793 697 732\n",
      " 710 724 780 739 743 773 742 744 724 685 749 722 721 722 791 739 748 754\n",
      " 742 738 792 765 722 711 754 791 745 772 717 756 761 731 696 697 721 721\n",
      " 747 784 747 713 704 737 726 730 756 775 743 744 672 716 738 718 748 781\n",
      " 748 727 711 743 774 754 703 756 715 752 718 790 725 713 735 746 757 723\n",
      " 748 675 649 731 718 731 720 697 744 722 811 748 753 761 750 713 675 728\n",
      " 722 762 727 669 745 779 702 734 721 738 775 726 677 756 764 745 740 776\n",
      " 734 734 749 745 715 745 785 744 784 727 780 687 738 753 712 728 699 703\n",
      " 780 783 723 717 717 768 738 702 713 740 774 733 697 725 757 768 712 735\n",
      " 771 744 769 733 742 749 769 735 725 740 711 753 730 705 741 730 782 726\n",
      " 699 754 760 731 727 751 731 727 787 758]\n"
     ]
    },
    {
     "data": {
      "image/png": "[encoded data removed]",
      "text/plain": [
       "<Figure size 432x288 with 1 Axes>"
      ]
     },
     "metadata": {},
     "output_type": "display_data"
    }
   ],
   "source": [
    "import numpy as np\n",
    "import matplotlib.pyplot as plt\n",
    "from matplotlib.pyplot import subplots, show\n",
    "plt.style.use('ggplot')\n",
    "\n",
    "# Using numpy.busday_count outputs how many Fridays there are in the years 2022 - 2026\n",
    "# exclusive i.e. ends at 2025 weekmask counts only the Fridays\n",
    "Friday = np.busday_count('2022','2026', weekmask='Fri')\n",
    "\n",
    "# 6 months of Friday data\n",
    "Friday_Transactions = [511, 726, 518, 904, 804, 788, 520, 513, 955, 580, 814, 840, 774,\n",
    "       944, 825, 647, 731, 741, 957, 908, 749, 534]\n",
    "# set dtype to int16 to return a whole number with no decimal places\n",
    "average_Friday_Transactions = np.mean((Friday_Transactions), dtype=np.int16)\n",
    "#print(average_Friday_Customers) to get the average of 248.45454545454547 truncated to 248\n",
    "\n",
    "s = rng.poisson(average_Friday_Transactions, Friday)\n",
    "\n",
    "print(\"The number of Friday orders from Jan to Jun 2021 is:\", Friday_Transactions)\n",
    "print(\"The average count of Friday orders is:\", average_Friday_Transactions)\n",
    "print(\"The number of Fridays from 2022 until 2026 inclusive is:\", Friday)\n",
    "print(\"Using Poisson Distribution we are able to forecast the number of Friday orders\",s)\n",
    "\n",
    "\n",
    "coun, bins, ignored =plt.hist(s,100,density=True)\n",
    "plt.ylabel(\"Probability\")\n",
    "plt.xlabel(\"Number of Friday Customer Orders\")\n",
    "\n",
    "plt.title(\"Forecast of Friday Customer Orders from 2022 - 2025\")\n",
    "plt.grid(True)\n",
    "plt.show()"
   ]
  },
  {
   "cell_type": "code",
   "execution_count": null,
   "metadata": {},
   "outputs": [],
   "source": []
  },
  {
   "cell_type": "code",
   "execution_count": null,
   "metadata": {},
   "outputs": [],
   "source": []
  },
  {
   "cell_type": "markdown",
   "metadata": {},
   "source": [
    "## References\n",
    "***\n",
    "[1] [NumPy: The absolute basics for beginners](https://numpy.org/doc/stable/user/absolute_beginners.html)  \n",
    "[2] [What is NumpY?](https://numpy.org/doc/stable/user/whatisnumpy.html)  \n",
    "[3] [Introduction to NumPy](https://www.w3schools.com/python/numpy/numpy_intro.asp)  \n",
    "[4] [Numpy Introduction](https://www.tutorialspoint.com/numpy/numpy_introduction.htm)  \n",
    "[5] [The N-dimensional array (ndarray)](https://numpy.org/doc/stable/reference/arrays.ndarray.html)  \n",
    "[6] [Python Lists vs. Numpy Arrays - What is the difference?](https://webcourses.ucf.edu/courses/1249560/pages/python-lists-vs-numpy-arrays-what-is-the-difference)  \n",
    "[7] [Random Number Generator Using NumPy](https://www.datacamp.com/community/tutorials/numpy-random)  \n",
    "[8] [Random Sampling (numpy.random)](https://numpy.org/doc/stable/reference/random/index.html)  \n",
    "[9] [Random Numbers in NumPy](https://www.w3schools.com/python/numpy/numpy_random.asp)  \n",
    "[10] [Integers Floats](https://processing.org/examples/integersfloats.html)  \n",
    "[11] [Understanding Python Permutations function with examples](https://www.pythonpool.com/python-permutations/)  \n",
    "[12] [numpy.random.shuffle](https://numpy.org/doc/stable/reference/random/generated/numpy.random.shuffle.html)  \n",
    "[13] [numpy.reshape](https://numpy.org/doc/stable/reference/generated/numpy.reshape.html)  \n",
    "[14] [numpy.random.permutation](https://numpy.org/doc/stable/reference/random/generated/numpy.random.permutation.html)  \n",
    "[15] [numpy.random.generator.permutation](https://numpy.org/doc/stable/reference/random/generated/numpy.random.Generator.permutation.html#numpy.random.Generator.permutation)  \n",
    "[16] [numpy.random.Generator.permuted](https://numpy.org/doc/stable/reference/random/generated/numpy.random.Generator.permuted.html)  \n",
    "[17] [5 NumPy Distributions to Know](https://www.askpython.com/python-modules/numpy/numpy-data-distributions)  \n",
    "[18] [numpy.random.binomial](https://numpy.org/doc/stable/reference/random/generated/numpy.random.binomial.html)  \n",
    "[19] [Bernoulli Experiments, Bionomial Distribution](https://www3.nd.edu/~dgalvin1/10120/10120_S16/Topic19_8p6_Galvin.pdf)  \n",
    "[20] [Binomial Distribution and Binomial Test in Python](https://towardsdatascience.com/binomial-distribution-and-binomial-test-in-python-statistics-pyshark-91aa6403d674)  \n",
    "[21] [Geometric Distribution Explained with Python Examples](https://vitalflux.com/geometric-distribution-explained-with-python-examples/)  \n",
    "[22] [Normal Distribution Explained with Python Examples](https://vitalflux.com/normal-distribution-explained-python-examples/)  \n",
    "[23] [PyPlot Text](https://matplotlib.org/stable/gallery/pyplots/pyplot_text.html#sphx-glr-gallery-pyplots-pyplot-text-py)  \n",
    "[24] [Poisson Distribution](https://www.investopedia.com/terms/p/poisson-distribution.asp)  \n",
    "[25] [Random Generator](https://numpy.org/doc/stable/reference/random/generator.html)  "
   ]
  },
  {
   "cell_type": "code",
   "execution_count": null,
   "metadata": {},
   "outputs": [],
   "source": []
  }
 ],
 "metadata": {
  "kernelspec": {
   "display_name": "Python 3 (ipykernel)",
   "language": "python",
   "name": "python3"
  },
  "language_info": {
   "codemirror_mode": {
    "name": "ipython",
    "version": 3
   },
   "file_extension": ".py",
   "mimetype": "text/x-python",
   "name": "python",
   "nbconvert_exporter": "python",
   "pygments_lexer": "ipython3",
   "version": "3.8.5"
  }
 },
 "nbformat": 4,
 "nbformat_minor": 4
}
